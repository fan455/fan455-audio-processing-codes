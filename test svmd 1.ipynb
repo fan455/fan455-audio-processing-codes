{
 "cells": [
  {
   "cell_type": "code",
   "execution_count": null,
   "id": "68bc9b47-ccf0-482b-bde1-6c4dc22a19d2",
   "metadata": {},
   "outputs": [],
   "source": [
    "# SVMD test using signal 1 from the paper 'A Sequential Variational Mode Decomposition Method'.\n",
    "import numpy as np\n",
    "from plot import plot, plot_modes_residual\n",
    "from tfa_svmd import *\n",
    "from tfa import get_rfftm"
   ]
  },
  {
   "cell_type": "code",
   "execution_count": null,
   "id": "80aab0bc-d656-4fc9-a814-a97b494e245a",
   "metadata": {},
   "outputs": [],
   "source": [
    "# Define signal\n",
    "sr, du, du_extend = 5000, 1.0, 0.2\n",
    "t = np.arange(int(sr*(du+2*du_extend)))/sr - du_extend\n",
    "y = 2*t + np.sin(100*np.pi*t-10*np.pi*np.square(t)) + 0.5*np.exp(-5*np.square(t-0.5))* \\\n",
    "     np.sin(200*np.pi*t) + np.random.normal(scale=0.1, size=t.size)\n",
    "#y = np.load('signal 1 extended.npy')\n",
    "#np.save('signal 1 extended.npy', y)"
   ]
  },
  {
   "cell_type": "code",
   "execution_count": null,
   "id": "f6911ee1-bfb5-4e84-8f2c-649e680a82b4",
   "metadata": {},
   "outputs": [],
   "source": [
    "# Set parameters\n",
    "out_thr, in_thr = 1e-5, 1e-10\n",
    "out_iter_max, in_iter_max = 3, 150\n",
    "alpha, beta = 1, 1e-2\n",
    "merge_range = 1.5\n",
    "return_type = 'modes, residual'"
   ]
  },
  {
   "cell_type": "code",
   "execution_count": null,
   "id": "13a7f088-fa6b-448c-a1b0-12de4001016d",
   "metadata": {},
   "outputs": [],
   "source": [
    "# Decompose (You may uncomment the line containing function svmd_refined() to test the refinement approach.)\n",
    "y_rfft = get_rfftm(y)\n",
    "Modes, res = svmd(y, out_thr, in_thr, out_iter_max, in_iter_max, alpha, beta, return_type)\n",
    "#Modes, res = svmd_refined(y, out_thr, in_thr, out_iter_max, in_iter_max, alpha, beta, merge_range, return_type)\n",
    "res_rfft = get_rfftm(res)"
   ]
  },
  {
   "cell_type": "code",
   "execution_count": null,
   "id": "5d262d42-4bf4-439d-b690-e7ae69d71e7e",
   "metadata": {},
   "outputs": [],
   "source": [
    "# Plot\n",
    "plot(y_rfft, title='spectrum of the original signal', x_label='frequency', y_label='magnitude')\n",
    "plot(res_rfft, title='spectrum of the residual', x_label='frequency', y_label='magnitude')\n",
    "plot_modes_residual(Modes, res, y, t)"
   ]
  }
 ],
 "metadata": {
  "kernelspec": {
   "display_name": "Python 3 (ipykernel)",
   "language": "python",
   "name": "python3"
  },
  "language_info": {
   "codemirror_mode": {
    "name": "ipython",
    "version": 3
   },
   "file_extension": ".py",
   "mimetype": "text/x-python",
   "name": "python",
   "nbconvert_exporter": "python",
   "pygments_lexer": "ipython3",
   "version": "3.11.1"
  }
 },
 "nbformat": 4,
 "nbformat_minor": 5
}
