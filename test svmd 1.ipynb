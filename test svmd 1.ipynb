{
 "cells": [
  {
   "cell_type": "code",
   "execution_count": null,
   "id": "ccf4aff1-6aaf-4ab0-b89b-c2e376c61002",
   "metadata": {},
   "outputs": [],
   "source": [
    "# SVMD test using signal 1 from the paper 'A Sequential Variational Mode Decomposition Method'.\n",
    "import numpy as np\n",
    "from plot import plot, plot_modes_residual\n",
    "from tfa_svmd import *\n",
    "from tfa import get_rfftm"
   ]
  },
  {
   "cell_type": "code",
   "execution_count": null,
   "id": "d6ef3284-f73c-4eb8-8121-b31c4aeeb99b",
   "metadata": {},
   "outputs": [],
   "source": [
    "# Define signal\n",
    "sr, du, du_extend = 5000, 1.0, 0.2\n",
    "t = np.arange(int(sr*(du+2*du_extend)))/sr - du_extend\n",
    "y = 2*t + np.sin(100*np.pi*t-10*np.pi*np.square(t)) + 0.5*np.exp(-5*np.square(t-0.5))* \\\n",
    "     #np.sin(200*np.pi*t) + np.random.normal(scale=0.1, size=t.size)\n",
    "#y = np.load('signal 1 extended.npy')\n",
    "#np.save('signal 1 extended.npy', y)"
   ]
  },
  {
   "cell_type": "code",
   "execution_count": null,
   "id": "a7f6e7f8-e132-47f0-abe3-4f722006658b",
   "metadata": {},
   "outputs": [],
   "source": [
    "# Set parameters\n",
    "out_thr, in_thr = 1e-5, 1e-10\n",
    "out_iter_max, in_iter_max = 3, 150\n",
    "alpha, beta = 1, 1e-2\n",
    "merge_range = 1.5\n",
    "return_type = 'modes, residual'"
   ]
  },
  {
   "cell_type": "code",
   "execution_count": null,
   "id": "0b82ab59-4e76-497a-8401-571c4f05d634",
   "metadata": {},
   "outputs": [],
   "source": [
    "# Decompose (You may uncomment the line containing function svmd_refined() to test the refinement approach.)\n",
    "y_rfft = get_rfftm(y)\n",
    "Modes, res = svmd(y, out_thr, in_thr, out_iter_max, in_iter_max, alpha, beta, return_type)\n",
    "#Modes, res = svmd_refined(y, out_thr, in_thr, out_iter_max, in_iter_max, alpha, beta, merge_range, return_type)\n",
    "res_rfft = get_rfftm(res)"
   ]
  },
  {
   "cell_type": "code",
   "execution_count": null,
   "id": "7afd834d-2a1d-4e69-bb29-b7eb956e3602",
   "metadata": {},
   "outputs": [],
   "source": [
    "# Plot\n",
    "plot(y_rfft, title='spectrum of the original signal', x_label='frequency', y_label='magnitude')\n",
    "plot(res_rfft, title='spectrum of the residual', x_label='frequency', y_label='magnitude')\n",
    "plot_modes_residual(Modes, res, y, t)"
   ]
  }
 ],
 "metadata": {
  "kernelspec": {
   "display_name": "Python 3 (ipykernel)",
   "language": "python",
   "name": "python3"
  },
  "language_info": {
   "codemirror_mode": {
    "name": "ipython",
    "version": 3
   },
   "file_extension": ".py",
   "mimetype": "text/x-python",
   "name": "python",
   "nbconvert_exporter": "python",
   "pygments_lexer": "ipython3",
   "version": "3.11.1"
  }
 },
 "nbformat": 4,
 "nbformat_minor": 5
}
