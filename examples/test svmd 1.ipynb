{
 "cells": [
  {
   "cell_type": "code",
   "execution_count": null,
   "id": "f2f0e1ac-373f-432a-a3e6-dc090cddcc2a",
   "metadata": {},
   "outputs": [],
   "source": [
    "# SVMD test using signal 1 from the paper 'A Sequential Variational Mode Decomposition Method'.\n",
    "\n",
    "# Import modules\n",
    "import numpy as np\n",
    "import sys\n",
    "sys.path.insert(0, '..')\n",
    "#sys.path.append('..')\n",
    "from modules.tfa import get_rfftm\n",
    "from modules.tfa_svmd import svmd, svmd_refined\n",
    "from modules.plot import plot, plot_modes_residual\n",
    "%matplotlib ipympl"
   ]
  },
  {
   "cell_type": "code",
   "execution_count": null,
   "id": "e61b76fc-81ba-4c55-af14-b48bf9d2bcc9",
   "metadata": {},
   "outputs": [],
   "source": [
    "# Define signal\n",
    "sr, du, du_extend = 5000, 1.0, 0.2\n",
    "t = np.arange(int(sr*(du+2*du_extend)))/sr - du_extend\n",
    "y = 2*t + np.sin(100*np.pi*t-10*np.pi*np.square(t)) + 0.5*np.exp(-5*np.square(t-0.5))* \\\n",
    "     np.sin(200*np.pi*t) + np.random.normal(scale=0.1, size=t.size)\n",
    "#y = np.load('signal 1 extended.npy')\n",
    "#np.save('signal 1 extended.npy', y)"
   ]
  },
  {
   "cell_type": "code",
   "execution_count": null,
   "id": "34280d4e-ba30-4253-a6a6-23fc297d4998",
   "metadata": {},
   "outputs": [],
   "source": [
    "# Set parameters\n",
    "out_thr, in_thr = 1e-5, 1e-10\n",
    "out_iter_max, in_iter_max = 3, 150\n",
    "alpha, beta = 1, 1e-2\n",
    "merge_range = 1.5\n",
    "return_type = 'modes, residual'"
   ]
  },
  {
   "cell_type": "code",
   "execution_count": null,
   "id": "9b2e5f0c-432d-4fa9-ac70-db3aa0434c20",
   "metadata": {},
   "outputs": [],
   "source": [
    "# Decompose\n",
    "y_rfft = get_rfftm(y)\n",
    "Modes, res = svmd(y, out_thr, in_thr, out_iter_max, in_iter_max, alpha, beta, return_type)\n",
    "#Modes, res = svmd_refined(y, out_thr, in_thr, out_iter_max, in_iter_max, alpha, beta, merge_range, return_type)\n",
    "# You may uncomment the above line to test the refinement approach.\n",
    "res_rfft = get_rfftm(res)"
   ]
  },
  {
   "cell_type": "code",
   "execution_count": null,
   "id": "fd1f24c6-4429-4b99-831a-2366ed0d3dff",
   "metadata": {},
   "outputs": [],
   "source": [
    "# Plot\n",
    "plot(y_rfft, title='spectrum of the original signal', x_label='frequency', y_label='magnitude')\n",
    "plot(res_rfft, title='spectrum of the residual', x_label='frequency', y_label='magnitude')\n",
    "plot_modes_residual(Modes, res, y, t)"
   ]
  }
 ],
 "metadata": {
  "kernelspec": {
   "display_name": "Python 3",
   "language": "python",
   "name": "python3"
  },
  "language_info": {
   "codemirror_mode": {
    "name": "ipython",
    "version": 3
   },
   "file_extension": ".py",
   "mimetype": "text/x-python",
   "name": "python",
   "nbconvert_exporter": "python",
   "pygments_lexer": "ipython3",
   "version": "3.11.1"
  },
  "vscode": {
   "interpreter": {
    "hash": "78eddeeb736d73378daec73089047061bd374c0ff25e11fe07c60b901ee0c875"
   }
  }
 },
 "nbformat": 4,
 "nbformat_minor": 5
}
