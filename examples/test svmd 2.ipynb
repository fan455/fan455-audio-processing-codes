{
 "cells": [
  {
   "cell_type": "code",
   "execution_count": null,
   "id": "f2f0e1ac-373f-432a-a3e6-dc090cddcc2a",
   "metadata": {},
   "outputs": [],
   "source": [
    "# SVMD test using the test signal from the paper 'A Novel Empirical Variational Mode Decomposition for Early Fault Feature Extraction'.\n",
    "\n",
    "# Import modules\n",
    "import numpy as np\n",
    "import sys\n",
    "sys.path.insert(0, '..')\n",
    "from modules.tfa import get_rfftm, get_hilbert_af\n",
    "from modules.tfa_svmd import svmd, svmd_refined\n",
    "from modules.plot import plot, subplots, plot_modes_residual"
   ]
  },
  {
   "cell_type": "code",
   "execution_count": null,
   "id": "e61b76fc-81ba-4c55-af14-b48bf9d2bcc9",
   "metadata": {},
   "outputs": [],
   "source": [
    "# Define signal\n",
    "sr, du, du_extend = 12000, 1.0, 0.0\n",
    "t = np.arange(int(sr*(du+2*du_extend)))/sr - du_extend\n",
    "\n",
    "f1, f2, f3 = 20, 35, 210\n",
    "y1, y2, y3 = 0.5*np.sin(2*np.pi*f1*t), 0.5*np.sin(2*np.pi*f2*t), 0.5*np.sin(2*np.pi*f3*t)\n",
    "y3[:int(sr*(0.1+du_extend))] = 0\n",
    "y3[int(sr*(0.2+du_extend)): int(sr*(0.8+du_extend))] = 0\n",
    "y3[int(sr*(0.9+du_extend)):] = 0\n",
    "y4 = np.zeros_like(t)\n",
    "A0, C, T = 0.5, 750, 0.125\n",
    "fr, fn = 8, 3000\n",
    "A = 1 + A0*np.sin(2*np.pi*fr*t)\n",
    "h = np.exp(-C*t)*np.sin(2*np.pi*fn*t)\n",
    "pulse = np.roll(A*h, int(0.5*sr*T))\n",
    "for i in range(1, 9):\n",
    "    roll = int(i*sr*T-np.random.uniform(0.01*T, 0.02*T))\n",
    "    #roll = int(i*sr*T)\n",
    "    y4 += np.roll(pulse, roll)\n",
    "plot(y4, t, title='y4', xlabel='time') \n",
    "\n",
    "y = np.sum([y1,y2,y3,y4], axis=0)"
   ]
  },
  {
   "cell_type": "code",
   "execution_count": null,
   "id": "34280d4e-ba30-4253-a6a6-23fc297d4998",
   "metadata": {},
   "outputs": [],
   "source": [
    "# Set parameters\n",
    "out_thr, in_thr = 1e-5, 1e-10\n",
    "out_iter_max, in_iter_max = 3, 150\n",
    "alpha, beta = 1., 1e-3\n",
    "merge_range = 1.5\n",
    "return_type = 'modes, residual'"
   ]
  },
  {
   "cell_type": "code",
   "execution_count": null,
   "id": "9b2e5f0c-432d-4fa9-ac70-db3aa0434c20",
   "metadata": {
    "tags": []
   },
   "outputs": [],
   "source": [
    "# Decompose\n",
    "y_rfft = get_rfftm(y)\n",
    "Modes, res = svmd(y, out_thr, in_thr, out_iter_max, in_iter_max, alpha, beta, return_type)\n",
    "res_rfft = get_rfftm(res)\n",
    "am, fm = get_hilbert_af(Modes, sr, axis=1)"
   ]
  },
  {
   "cell_type": "code",
   "execution_count": null,
   "id": "fd1f24c6-4429-4b99-831a-2366ed0d3dff",
   "metadata": {},
   "outputs": [],
   "source": [
    "# Plot\n",
    "%matplotlib ipympl  \n",
    "plot(y_rfft, title='spectrum of the original signal', xlabel='frequency', ylabel='magnitude')\n",
    "plot(res_rfft, title='spectrum of the residual', xlabel='frequency', ylabel='magnitude')\n",
    "plot_modes_residual(Modes, res, y, t)\n",
    "subplots(am, t, title='Instantaneous Amplitude (Envelope)', subtitle='mode', xlabel='time', ylabel='amplitude')\n",
    "subplots(fm, t[:-1], title='Instantaneous Frequency', subtitle='mode', xlabel='time', ylabel='frequency')"
   ]
  }
 ],
 "metadata": {
  "kernelspec": {
   "display_name": "Python 3 (ipykernel)",
   "language": "python",
   "name": "python3"
  },
  "language_info": {
   "codemirror_mode": {
    "name": "ipython",
    "version": 3
   },
   "file_extension": ".py",
   "mimetype": "text/x-python",
   "name": "python",
   "nbconvert_exporter": "python",
   "pygments_lexer": "ipython3",
   "version": "3.11.1"
  },
  "vscode": {
   "interpreter": {
    "hash": "78eddeeb736d73378daec73089047061bd374c0ff25e11fe07c60b901ee0c875"
   }
  }
 },
 "nbformat": 4,
 "nbformat_minor": 5
}
