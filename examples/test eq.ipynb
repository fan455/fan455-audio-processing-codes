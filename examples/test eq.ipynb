{
 "cells": [
  {
   "cell_type": "code",
   "execution_count": null,
   "id": "93ff51c4-82e2-47b4-97fd-cf4de1ccbb01",
   "metadata": {},
   "outputs": [],
   "source": [
    "import numpy as np\n",
    "import sys\n",
    "sys.path.insert(0, '..')\n",
    "from modules.filter import *\n",
    "from modules.tfa import get_rfftmf, get_uniform_noise, get_gaussian_noise\n",
    "from modules.plot import plot, plot_fscale\n",
    "%matplotlib ipympl\n",
    "old_settings = np.seterr(divide='ignore')"
   ]
  },
  {
   "cell_type": "code",
   "execution_count": null,
   "id": "fe4e7faf-6e26-45ef-b5a0-bc4f7405519c",
   "metadata": {},
   "outputs": [],
   "source": [
    "# Define signal\n",
    "sr, du = 48000, 1.0\n",
    "ls, ts = 0.25, 0.25\n",
    "t = np.arange(int(sr*du)+int(sr*ls)+int(sr*ts))/sr\n",
    "A = 0.3\n",
    "y = get_uniform_noise(sr=sr, du=du, A=A, ls=ls, ts=ts)\n",
    "#y = get_gaussian_noise(sr=sr, du=du, A=A, ls=ls, ts=ts)"
   ]
  },
  {
   "cell_type": "code",
   "execution_count": null,
   "id": "75769c16-b03a-48db-9f1b-4330fa34817a",
   "metadata": {},
   "outputs": [],
   "source": [
    "# Plot signal before eq\n",
    "print(f'signal size before eq: {y.size}')\n",
    "plot(y, t, title='signal before eq', xlabel='time', ylabel='amplitude')\n",
    "\n",
    "# Plot signal rfftm before eq\n",
    "ym, yf = get_rfftmf(y, sr)\n",
    "plot(ym, yf, title='rfftm before eq', xlabel='frequency (Hz)', ylabel='magnitude')"
   ]
  },
  {
   "cell_type": "code",
   "execution_count": null,
   "id": "98ca7fe6-6f4d-4cd6-8c57-aa668a0cedc4",
   "metadata": {},
   "outputs": [],
   "source": [
    "# Set eq parameters and view frequency response\n",
    "freq = 2000\n",
    "gain = 3.0\n",
    "Q = 0.5\n",
    "#bqfunc = bq_lowpass\n",
    "\n",
    "# Get the sos of eq and \n",
    "sos = bq_highpass(sr, freq, Q, gain)\n",
    "\n",
    "# Plot the eq's frequency response\n",
    "f, frm, frp = fr_iirsos(sr, sos)\n",
    "plot_fscale(frm, f, title='frequency response: magnitude', ylabel='magnitude (dB)')\n",
    "plot_fscale(frp, f, title='frequency response: phase', ylabel='phase (rad)')"
   ]
  },
  {
   "cell_type": "code",
   "execution_count": null,
   "id": "df36651b-3859-4a7b-ae20-c404979e0cdf",
   "metadata": {},
   "outputs": [],
   "source": [
    "# Do eq to signal\n",
    "y_eq = iirsos(y, sos)\n",
    "t_eq = np.arange(y_eq.size)/sr\n",
    "\n",
    "# Plot signal after eq\n",
    "print(f'signal size after eq: {y_eq.size}')\n",
    "plot(y_eq, t_eq, title='signal after eq', xlabel='time', ylabel='amplitude')\n",
    "\n",
    "# Plot signal rfftm after eq\n",
    "ym_eq, yf_eq = get_rfftmf(y_eq, sr)\n",
    "plot(ym_eq, yf_eq, title='rfftm after eq', xlabel='frequency (Hz)', ylabel='magnitude')"
   ]
  },
  {
   "cell_type": "code",
   "execution_count": null,
   "id": "85a526f7-d7cb-43fc-bb7a-a9c65e6560d1",
   "metadata": {},
   "outputs": [],
   "source": []
  }
 ],
 "metadata": {
  "kernelspec": {
   "display_name": "Python 3 (ipykernel)",
   "language": "python",
   "name": "python3"
  },
  "language_info": {
   "codemirror_mode": {
    "name": "ipython",
    "version": 3
   },
   "file_extension": ".py",
   "mimetype": "text/x-python",
   "name": "python",
   "nbconvert_exporter": "python",
   "pygments_lexer": "ipython3",
   "version": "3.11.1"
  }
 },
 "nbformat": 4,
 "nbformat_minor": 5
}
